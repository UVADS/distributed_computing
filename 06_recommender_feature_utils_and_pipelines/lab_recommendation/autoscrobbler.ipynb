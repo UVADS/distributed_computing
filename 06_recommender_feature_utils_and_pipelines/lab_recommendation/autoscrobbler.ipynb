{
 "cells": [
  {
   "cell_type": "markdown",
   "metadata": {},
   "source": [
    "## Music Recommendation\n",
    "### University of Virginia\n",
    "### DS 7200: Distributed Computing\n",
    "### Last Updated: October 7, 2025\n",
    "\n",
    "\n",
    "---"
   ]
  },
  {
   "cell_type": "markdown",
   "metadata": {},
   "source": [
    "#### Instructions\n",
    "\n",
    "In this assignment, you will build an ALS recommendation algorithm based on user listening data from Autoscrobbler.\n",
    "\n",
    "The data consists of: \n",
    "- user data (listeners)\n",
    "- item data (songs)\n",
    "- interaction data (user listens, which is implicit feedback).  \n",
    "\n",
    "Additional details are in the `README` file. Be sure to review in advance.\n",
    "\n",
    "Develop/test code to accomplish the tasks below, clearly showing the results and documenting your work.\n"
   ]
  },
  {
   "cell_type": "markdown",
   "metadata": {},
   "source": [
    "**TOTAL POINTS: 10**\n",
    "***"
   ]
  },
  {
   "cell_type": "markdown",
   "metadata": {},
   "source": [
    "#### Preprocessing Steps in order:\n",
    "\n",
    "1) To reduce runtime, you will sample 20% of the interaction data from `user_artist_data.txt` using seed=314 (and use this seed throughout the lab)\n",
    "2) Next, remove users with fewer than 10 listens (interactions)\n",
    "3) Lastly, split the data: 60% train / 20% validation / 20% test"
   ]
  },
  {
   "cell_type": "code",
   "execution_count": 33,
   "metadata": {},
   "outputs": [],
   "source": [
    "# ANSWER 1 (1 PT)\n",
    "# Show the first row from the training set\n"
   ]
  },
  {
   "cell_type": "code",
   "execution_count": 13,
   "metadata": {},
   "outputs": [],
   "source": [
    "# ANSWER 2 (1 PT)\n",
    "# Show the first row from the test set. We will refer to this user as Test User 1.\n"
   ]
  },
  {
   "cell_type": "code",
   "execution_count": 34,
   "metadata": {},
   "outputs": [],
   "source": [
    "# ALS MODEL 1: Train the ALS implicit model (since the measurements are activity and not ratings)\n",
    "# Use parameters: rank=8, maxIter=5, regParam=0.02, alpha=0.01\n"
   ]
  },
  {
   "cell_type": "code",
   "execution_count": 36,
   "metadata": {},
   "outputs": [],
   "source": [
    "# ANSWER 3 (2 PTS)\n",
    "# Using ALS MODEL 1, make 10 recommendations for Test User 1\n"
   ]
  },
  {
   "cell_type": "code",
   "execution_count": 37,
   "metadata": {},
   "outputs": [],
   "source": [
    "# ANSWER 4 (1 PT)\n",
    "# Briefly explain Recall@K in the context of recommender systems\n"
   ]
  },
  {
   "cell_type": "code",
   "execution_count": 47,
   "metadata": {},
   "outputs": [],
   "source": [
    "# ANSWER 5 (1 PT)\n",
    "# Calculate Recall@K for Test User 1\n"
   ]
  },
  {
   "cell_type": "code",
   "execution_count": 24,
   "metadata": {},
   "outputs": [],
   "source": [
    "# ALS MODEL 2: For this model, you will use hyperparameter tuning on the validation set to select the best values for\n",
    "# (rank, maxIter, regParam, alpha) to maximize Recall@K\n"
   ]
  },
  {
   "cell_type": "code",
   "execution_count": 41,
   "metadata": {},
   "outputs": [],
   "source": [
    "# ANSWER 6 (2 PTS)\n",
    "# Report the results including best values for (rank, maxIter, regParam, alpha) along with the Recall@K from the validation set\n"
   ]
  },
  {
   "cell_type": "code",
   "execution_count": 27,
   "metadata": {},
   "outputs": [],
   "source": [
    "# Retrain the best configuration on train + validation data.\n"
   ]
  },
  {
   "cell_type": "code",
   "execution_count": 46,
   "metadata": {},
   "outputs": [],
   "source": [
    "# ANSWER 7 (1 PT)\n",
    "# Calculate Recall@K on the test set and report the value.\n"
   ]
  },
  {
   "cell_type": "code",
   "execution_count": 45,
   "metadata": {},
   "outputs": [],
   "source": [
    "# ANSWER 8 (1 PT)\n",
    "# Calculate Recall@K for Test User 1 \n",
    "# Justify the result, showing the recommendations and user activity. Did hyperparameter tuning seem to help for this user?\n"
   ]
  },
  {
   "cell_type": "code",
   "execution_count": 4,
   "metadata": {},
   "outputs": [],
   "source": [
    "# ANSWER 2 (2 PTS)\n",
    "# Using ALS MODEL 1, make 10 recommendations for testUserID = 1000002    \n"
   ]
  },
  {
   "cell_type": "code",
   "execution_count": null,
   "metadata": {},
   "outputs": [],
   "source": [
    "# ANSWER 3 (1 PT)\n",
    "# Print the first 5 records from trainData\n"
   ]
  },
  {
   "cell_type": "code",
   "execution_count": null,
   "metadata": {},
   "outputs": [],
   "source": [
    "# ANSWER 4 (1 PT)\n",
    "# Print the artist listens for testUserID = 1000002\n"
   ]
  },
  {
   "cell_type": "code",
   "execution_count": null,
   "metadata": {},
   "outputs": [],
   "source": [
    "# ANSWER 5 (2 PTS)\n",
    "# Make 10 recommendations for testUserID = 1000002\n"
   ]
  },
  {
   "cell_type": "code",
   "execution_count": null,
   "metadata": {},
   "outputs": [],
   "source": [
    "# ANSWER 6 (2 PTS)\n",
    "# Using the rank 20 model, make 10 recommendations for testUserID = 1000002"
   ]
  },
  {
   "cell_type": "code",
   "execution_count": null,
   "metadata": {},
   "outputs": [],
   "source": [
    "# ANSWER 7 (2 PTS)\n",
    "# How does the rank 10 model seem to perform versus the rank 20 model?\n",
    "# The contents of artistsForUser may help answer the question.\n"
   ]
  }
 ],
 "metadata": {
  "kernelspec": {
   "display_name": "Python 3 (ipykernel)",
   "language": "python",
   "name": "python3"
  },
  "language_info": {
   "codemirror_mode": {
    "name": "ipython",
    "version": 3
   },
   "file_extension": ".py",
   "mimetype": "text/x-python",
   "name": "python",
   "nbconvert_exporter": "python",
   "pygments_lexer": "ipython3",
   "version": "3.12.9"
  }
 },
 "nbformat": 4,
 "nbformat_minor": 4
}
