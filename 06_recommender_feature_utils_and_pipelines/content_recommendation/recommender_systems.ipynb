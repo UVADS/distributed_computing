{
 "cells": [
  {
   "cell_type": "markdown",
   "metadata": {},
   "source": [
    " <img src=\"./img/uva_seal.png\"> "
   ]
  },
  {
   "cell_type": "markdown",
   "metadata": {},
   "source": [
    "## Recommender Systems\n",
    "\n",
    "### University of Virginia\n",
    "### DS 7200: Distributed Computing\n",
    "### Last Updated: October 10, 2025\n",
    "\n",
    "---"
   ]
  },
  {
   "cell_type": "markdown",
   "metadata": {},
   "source": [
    "#### Sources:\n",
    "\n",
    "- Advanced Analytics with Spark: Chapter 3\n",
    "- [Recommendation engine with Amazon Personalize](https://aws.amazon.com/blogs/architecture/automating-recommendation-engine-training-with-amazon-personalize-and-aws-glue/)\n",
    "- [Non-negative matrix factorization](https://en.wikipedia.org/wiki/Non-negative_matrix_factorization)\n",
    "\n",
    "#### Objectives\n",
    "Introduction to recommender systems\n",
    "\n",
    "#### Concepts\n",
    "\n",
    "- Required data: user data, item data, interaction data\n",
    "- Collaborative filtering\n",
    "- Alternating least squares\n",
    "- Implicit vs. explicit feedback\n",
    "- Exploration vs. exploitation\n",
    "- Finding similar users with cosine similarity\n",
    "\n",
    "---"
   ]
  },
  {
   "cell_type": "markdown",
   "metadata": {},
   "source": [
    "#### I. Introduction\n",
    "\n",
    "Recommender systems are a major application of AI.\n",
    "\n",
    "They have found widespread use across domains to recommend products to users:\n",
    "\n",
    "- Amazon uses them in their e-commerce platform to promote products to users\n",
    "- Netflix recommends streaming content to viewers\n",
    "- Education technology companies build systems to recommend articles/blogs/videos to students and teachers\n",
    "\n",
    "---"
   ]
  },
  {
   "cell_type": "markdown",
   "metadata": {},
   "source": [
    "#### II. Required Data"
   ]
  },
  {
   "cell_type": "markdown",
   "metadata": {},
   "source": [
    "Three datasets are required for recommender systems:\n",
    "\n",
    "- **User Data**  \n",
    "USER_ID (string), metadata fields\n",
    "\n",
    "- **Item Data**  \n",
    "ITEM_ID (string), metadata fields\n",
    "\n",
    "- **Interaction Data**  \n",
    "USER_ID (string), ITEM_ID (string), TIMESTAMP\n",
    "\n",
    "---\n",
    "\n",
    "**Collection Interactions: Implicit vs Explicit Feedback** \n",
    "\n",
    "Recommender systems use interactions between users and products to make relevant recommendations\n",
    "\n",
    "Assumption: historical interactions will be useful in the future\n",
    "\n",
    "**Implicit feedback** can be collected from activity, such as listens, clicks and purchases.  \n",
    "- often automated with *event triggers*\n",
    "- relatively easy to collect\n",
    "\n",
    "**Explicit feedback** is often collected by asking the user to rate a product.  \n",
    "- generally harder to collect\n",
    "- might not match the true feeling of the user  \n",
    "  Example: user says he prefers classical music (explicit), yet all recent listens are hard rock (implicit)\n",
    "\n",
    "In practice, implicit feedback can work better in recommender systems.  \n",
    "\n",
    "---"
   ]
  },
  {
   "cell_type": "markdown",
   "metadata": {},
   "source": [
    "#### III. Common Algorithms"
   ]
  },
  {
   "cell_type": "markdown",
   "metadata": {},
   "source": [
    "**A. Collaborative Filtering**  \n",
    "\n",
    "The concept is simple and appealing: based on user preferences for items, recommend similar items the user is likely to prefer\n",
    "\n",
    "Users assign items a rating (e.g., number of stars)\n",
    "\n",
    "The interaction matrix is generally sparse: low interaction between users and items.\n",
    "\n",
    "Need to compute a similarity metric; for item *i*, return the top *k* most relevant items.\n",
    "Popular method is *cosine similarity*.\n",
    "\n",
    "The cosine of two non-zero vectors **A** and **B** can be derived by using the Euclidean dot product formula:\n"
   ]
  },
  {
   "cell_type": "markdown",
   "metadata": {},
   "source": [
    " <img src=\"./img/cosine_sim.png\"> "
   ]
  },
  {
   "cell_type": "markdown",
   "metadata": {},
   "source": [
    "Vectors that are closer (smaller angle) have higher cosine and higher similarity.\n",
    "\n",
    "See [here](https://en.wikipedia.org/wiki/Collaborative_filtering) for more details.\n",
    "\n",
    "---"
   ]
  },
  {
   "cell_type": "markdown",
   "metadata": {},
   "source": [
    "**B. Alternating Least Squares (ALS)**  \n",
    "\n",
    "Alternating Least Squares (ALS) is popular for recommendation as it scales well.\n",
    "\n",
    "It uses **latent factors**, which are factors that are unobservable and small in number.  \n",
    "In essence, the factors compress data from a high dimensional space into a much lower dimension (think PCA).\n",
    "\n",
    "The user-item (or interaction) matrix **𝑅** is represented by the two smaller matrices **𝑈** and **𝑉**, which, when multiplied, approximately reconstruct **𝑅**.\n"
   ]
  },
  {
   "cell_type": "markdown",
   "metadata": {},
   "source": [
    " <img src=\"./img/R.png\" width=500> "
   ]
  },
  {
   "cell_type": "markdown",
   "metadata": {},
   "source": [
    " <img src=\"./img/UV.png\" width=500> "
   ]
  },
  {
   "cell_type": "markdown",
   "metadata": {},
   "source": [
    "The matrices **U** and **V** need to be estimated.\n",
    "\n",
    "**Strategy:**\n",
    " \n",
    "1. Specify an objective: minimize sum of squared errors, including regularization term:"
   ]
  },
  {
   "cell_type": "markdown",
   "metadata": {},
   "source": [
    " <img src=\"./img/objective.png\" width=500> "
   ]
  },
  {
   "cell_type": "markdown",
   "metadata": {},
   "source": [
    "2. Fix $V$, solve for $U$ applying ridge regression\n",
    "3. Fix $U$, solve for $V$ applying ridge regression\n",
    "4. Repeat 2-3 until convergence or max iterations\n",
    "\n",
    "Steps 2 & 3 give the name alternating least squares\n",
    "\n",
    "---"
   ]
  },
  {
   "cell_type": "markdown",
   "metadata": {},
   "source": [
    "After we have these estimates, we can predict like this:"
   ]
  },
  {
   "cell_type": "markdown",
   "metadata": {},
   "source": [
    " <img src=\"./img/prediction.png\" width=500> "
   ]
  },
  {
   "cell_type": "markdown",
   "metadata": {},
   "source": [
    "---\n",
    "\n",
    "**Cold Start Problem** \n",
    "\n",
    "How to recommend new users? We are missing the row.  \n",
    "\n",
    "How to recommend new products? We are missing the column.  \n",
    "\n",
    "This is *cold start problem*\n",
    "\n",
    "Common strategies:\n",
    "\n",
    "- Use global averages (e.g., mean rating) for unseen users/items\n",
    "\n",
    "- Content-based features (item metadata or user attributes) to estimate latent factors\n",
    "\n",
    "- Hybrid approaches combining ALS with content-based or popularity-based recommendations\n"
   ]
  },
  {
   "cell_type": "markdown",
   "metadata": {},
   "source": [
    " <img src=\"./img/cold_start.png\" width=500> "
   ]
  },
  {
   "cell_type": "markdown",
   "metadata": {},
   "source": [
    "---"
   ]
  },
  {
   "cell_type": "markdown",
   "metadata": {},
   "source": [
    "#### IV. Recommendation in Spark"
   ]
  },
  {
   "cell_type": "markdown",
   "metadata": {},
   "source": [
    "**A. Workflow**  \n",
    "\n",
    "Spark MLlib supports recommendation algorithms (both RDD and DF APIs).  \n",
    "\n",
    "Some relevant code for ALS algorithm:\n",
    "```\n",
    "\n",
    "# import from libraries\n",
    "from pyspark.ml.recommendation import ALS\n",
    "from pyspark.ml.evaluation import RegressionEvaluator\n",
    "\n",
    "# instantiate model\n",
    "als = ALS(\n",
    "    userCol=\"user_id\",\n",
    "    itemCol=\"item_id\",\n",
    "    ratingCol=\"rating\",\n",
    "    coldStartStrategy=\"drop\"\n",
    ")\n",
    "\n",
    "model = als.fit(ratings_df)\n",
    "\n",
    "predictions = model.transform(ratings_df)\n",
    "\n",
    "```\n",
    "\n",
    "---\n",
    "\n",
    "**B. ALS Hyperparameters**  \n",
    "\n",
    "Some important ALS hyperparameters in Spark implementation: \n",
    "\n",
    "- `rank`  \n",
    "The number of latent factors in the model, or equivalently, the number of columns $k$ in the user-feature and product-feature matrices.\n",
    "\n",
    "- `maxIter`   \n",
    "The number of iterations that the factorization runs. More iterations take more time but may produce a better factorization.\n",
    "\n",
    "- `regParam`  \n",
    "A standard overfitting parameter. Higher values resist overfitting, but values that are too high hurt the factorization’s accuracy.\n",
    "\n",
    "- `alpha`  \n",
    "Controls the relative weight of observed versus unobserved user-product interactions in the factorization.\n",
    "\n",
    "- `coldStartStrategy`=\"drop\" is used to safely handle unseen users/items.\n",
    "\n",
    "---"
   ]
  },
  {
   "cell_type": "markdown",
   "metadata": {},
   "source": [
    "**C. Spark Computing Details**  \n",
    "\n",
    "*Cold Start*  \n",
    "Spark does not automatically generate latent factors for unseen users/items.\n",
    "\n",
    "*Distributed computing*  \n",
    "ALS in Spark is designed for parallel updates:\n",
    "\n",
    "- Each row of 𝑈 (user factors) can be solved independently across workers\n",
    "\n",
    "- Each row of 𝑉 (item factors) can also be solved independently\n",
    "\n",
    "- Uses block partitioning of matrices to reduce network communication and scale to large datasets\n",
    "\n",
    "- Scales to millions of users/items\n",
    "\n",
    "---"
   ]
  },
  {
   "cell_type": "markdown",
   "metadata": {},
   "source": [
    "#### V. Amazon Personalize and Example Architecture Diagram"
   ]
  },
  {
   "cell_type": "markdown",
   "metadata": {},
   "source": [
    "Amazon Personalize is a fully-featured recommender system.  \n",
    "\n",
    "Includes different algorithms called *recipes*. See [here](https://docs.aws.amazon.com/personalize/latest/dg/native-recipe-new-item-USER_PERSONALIZATION.html) for more details.\n",
    "\n",
    "Provides parameter that controls *exploration* versus *exploitation*:  \n",
    "\n",
    "**Explore** : items with less interaction data or relevance are recommended more frequently  \n",
    "**Exploit** : recommendations are based on what we know or relevance\n",
    "\n",
    "Personalize tests different item recommendations, learns from user interactions, and boosts recommendations for items driving better engagement.\n",
    "\n",
    "**Example of high-level architecture for a retail customer**  \n",
    "Source: Amazon Web Services"
   ]
  },
  {
   "cell_type": "markdown",
   "metadata": {},
   "source": [
    " <img src=\"./img/amazon_personalize.png\"> "
   ]
  },
  {
   "cell_type": "markdown",
   "metadata": {},
   "source": [
    "---"
   ]
  }
 ],
 "metadata": {
  "kernelspec": {
   "display_name": "Python 3 (ipykernel)",
   "language": "python",
   "name": "python3"
  },
  "language_info": {
   "codemirror_mode": {
    "name": "ipython",
    "version": 3
   },
   "file_extension": ".py",
   "mimetype": "text/x-python",
   "name": "python",
   "nbconvert_exporter": "python",
   "pygments_lexer": "ipython3",
   "version": "3.12.9"
  }
 },
 "nbformat": 4,
 "nbformat_minor": 4
}
